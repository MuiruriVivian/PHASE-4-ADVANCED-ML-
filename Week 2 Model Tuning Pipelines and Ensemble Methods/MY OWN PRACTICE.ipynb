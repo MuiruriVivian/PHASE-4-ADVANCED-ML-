{
 "cells": [
  {
   "cell_type": "code",
   "execution_count": 2,
   "metadata": {},
   "outputs": [
    {
     "name": "stdout",
     "output_type": "stream",
     "text": [
      "   Id  SepalLengthCm  SepalWidthCm  PetalLengthCm  PetalWidthCm      Species\n",
      "0   1            5.1           3.5            1.4           0.2  Iris-setosa\n",
      "1   2            4.9           3.0            1.4           0.2  Iris-setosa\n",
      "2   3            4.7           3.2            1.3           0.2  Iris-setosa\n",
      "3   4            4.6           3.1            1.5           0.2  Iris-setosa\n",
      "4   5            5.0           3.6            1.4           0.2  Iris-setosa\n"
     ]
    }
   ],
   "source": [
    "#Import the required libraries\n",
    "import pandas as pd\n",
    "import numpy as np\n",
    "\n",
    "\n",
    "# read the dataset \n",
    "df = pd.read_csv(\"./data/Iris.csv\")\n",
    "\n",
    "# view the head\n",
    "print(df.head())\n",
    "\n",
    "X = df.iloc[:,:-1].values # means select all columns except the last one\n",
    "y = df.iloc[:,5].values #selects all the values from the 5th column of the DataFrame"
   ]
  },
  {
   "cell_type": "markdown",
   "metadata": {},
   "source": [
    "### K-Nearest Neighboor (KNN)"
   ]
  },
  {
   "cell_type": "code",
   "execution_count": 30,
   "metadata": {},
   "outputs": [
    {
     "name": "stdout",
     "output_type": "stream",
     "text": [
      "              precision    recall  f1-score   support\n",
      "\n",
      "           0       1.00      1.00      1.00        12\n",
      "           1       1.00      1.00      1.00        11\n",
      "           2       1.00      1.00      1.00         7\n",
      "\n",
      "    accuracy                           1.00        30\n",
      "   macro avg       1.00      1.00      1.00        30\n",
      "weighted avg       1.00      1.00      1.00        30\n",
      "\n",
      "[[12  0  0]\n",
      " [ 0 11  0]\n",
      " [ 0  0  7]]\n"
     ]
    }
   ],
   "source": [
    "from sklearn.model_selection import train_test_split\n",
    "X_train, X_test, y_train, y_test = train_test_split(X,y, test_size=0.2)\n",
    "\n",
    "from sklearn.preprocessing import StandardScaler\n",
    "scaler = StandardScaler()\n",
    "scaler.fit(X_train)\n",
    "X_train = scaler.transform(X_train)\n",
    "X_test = scaler.transform(X_test)\n",
    "\n",
    "# this should be added in the preprocessing stage\n",
    "from sklearn.preprocessing import LabelEncoder\n",
    "\n",
    "#Encode labels to integers\n",
    "label_encoder = LabelEncoder()\n",
    "y = label_encoder.fit_transform(y)\n",
    "y_train = label_encoder.fit_transform(y_train)\n",
    "y_test = label_encoder.fit_transform(y_test)\n",
    "\n",
    "\n",
    "from sklearn.neighbors import KNeighborsClassifier , KNeighborsTransformer\n",
    "classifier = KNeighborsClassifier(n_neighbors=5)\n",
    "classifier.fit(X_train, y_train)\n",
    "\n",
    "# Predict and evaluate\n",
    "y_pred = classifier.predict(X_test)\n",
    "\n",
    "from sklearn.metrics import classification_report, confusion_matrix\n",
    "print(classification_report(y_test,y_pred))\n",
    "print (confusion_matrix (y_test, y_pred))"
   ]
  },
  {
   "cell_type": "markdown",
   "metadata": {},
   "source": [
    "### Preprocessing without Pipeline"
   ]
  },
  {
   "cell_type": "code",
   "execution_count": 4,
   "metadata": {},
   "outputs": [],
   "source": [
    "# from sklearn.preprocessing import OneHotEncoder\n",
    "\n",
    "# # Make a transformer\n",
    "# ohe = OneHotEncoder(categories=\"auto\", handle_unknown=\"ignore\", sparse=False)\n",
    "\n",
    "# # Create transformed dataframe\n",
    "# category_encoded = ohe.fit_transform(df[[\"category\"]])\n",
    "# category_encoded = pd.DataFrame(\n",
    "#     category_encoded,\n",
    "#     columns=ohe.categories_[0],\n",
    "#     index=df.index\n",
    "    \n",
    "# )\n",
    "\n",
    "# # Replace categorical data with encoded data\n",
    "# df.drop(\"Species\", axis=1, inplace=True)\n",
    "# df = pd.concat([category_encoded, df], axis=1)\n",
    "\n",
    "# # Visually inspect dataframe\n",
    "# df"
   ]
  },
  {
   "cell_type": "markdown",
   "metadata": {},
   "source": [
    "### Feature Engeeneering "
   ]
  },
  {
   "cell_type": "code",
   "execution_count": 5,
   "metadata": {},
   "outputs": [],
   "source": [
    "# from sklearn.preprocessing import FunctionTransformer\n",
    "\n",
    "# def is_odd(data):\n",
    "#     \"\"\"\n",
    "#     Helper function that returns 1 if odd, 0 if even\n",
    "#     \"\"\"\n",
    "#     return data % 2\n",
    "\n",
    "# # Instantiate transformer\n",
    "# func_transformer = FunctionTransformer(is_odd)\n",
    "\n",
    "# # Create transformed column\n",
    "# number_odd = func_transformer.fit_transform(example_X[\"number\"])\n",
    "\n",
    "# # Add engineered column\n",
    "# example_X[\"number_odd\"] = number_odd\n",
    "# example_X"
   ]
  },
  {
   "cell_type": "markdown",
   "metadata": {},
   "source": [
    "### scaling"
   ]
  },
  {
   "cell_type": "code",
   "execution_count": 6,
   "metadata": {},
   "outputs": [],
   "source": [
    "# from sklearn.preprocessing import StandardScaler\n",
    "\n",
    "# # Instantiate transformer\n",
    "# scaler = StandardScaler()\n",
    "\n",
    "# # Create transformed dataset\n",
    "# data_scaled = scaler.fit_transform(example_X)\n",
    "\n",
    "# # Replace dataset with transformed one\n",
    "# example_X = pd.DataFrame(\n",
    "#     data_scaled,\n",
    "#     columns=example_X.columns,\n",
    "#     index=example_X.index\n",
    "# )\n",
    "# example_X"
   ]
  },
  {
   "cell_type": "markdown",
   "metadata": {},
   "source": [
    "### Pipeline"
   ]
  },
  {
   "cell_type": "code",
   "execution_count": 7,
   "metadata": {},
   "outputs": [
    {
     "data": {
      "text/plain": [
       "1.0"
      ]
     },
     "execution_count": 7,
     "metadata": {},
     "output_type": "execute_result"
    }
   ],
   "source": [
    "from sklearn.pipeline import Pipeline\n",
    "from sklearn.preprocessing import MinMaxScaler, StandardScaler\n",
    "from sklearn.tree import DecisionTreeClassifier\n",
    "\n",
    "# create a pipeline \n",
    "pipe = Pipeline([(\"mms\", MinMaxScaler()), \n",
    "                (\"tree\", DecisionTreeClassifier())])\n",
    "\n",
    "# fit to the training data\n",
    "pipe.fit(X_train, y_train)\n",
    "\n",
    "# calculate the Score on test data\n",
    "pipe.score(X_test, y_test)\n"
   ]
  },
  {
   "cell_type": "markdown",
   "metadata": {},
   "source": [
    "### Column transformer"
   ]
  },
  {
   "cell_type": "code",
   "execution_count": null,
   "metadata": {},
   "outputs": [],
   "source": [
    "cat_cols = [\"SepalLengthCm\", \"SepalWidthCm\", \"PetalLengthCm\", \"PetalWidthCm\"]\n",
    "num_cols = [\"Species\"]\n",
    "\n",
    "from sklearn.compose import ColumnTransformer\n",
    "from sklearn.impute import SimpleImputer\n",
    "from  sklearn.preprocessing import OneHotEncoder\n",
    "\n",
    "# create a transformer\n",
    "transformer = ColumnTransformer([\n",
    "    (\"cat\",Pipeline([\n",
    "        (\"imputer\", SimpleImputer(strategy=\"most_frequent\")),\n",
    "        (\"ohe\",OneHotEncoder())\n",
    "    ]),cat_cols),\n",
    "    (\"num\", Pipeline([\n",
    "        (\"imputer\", SimpleImputer(strategy=\"mean\")),\n",
    "        (\"scaler\", MinMaxScaler())\n",
    "    ]),num_cols)\n",
    "])\n",
    "\n",
    "# base estimator for ensemble methods\n",
    "base = DecisionTreeClassifier(class_weight=\"balanced\")\n",
    "\n",
    "# create a pipeline\n",
    "pipe = Pipeline([\n",
    "    (\"pre_pro\",transformer),\n",
    "    (\"model\", DecisionTreeClassifier(class_weight=\"balanced\"))\n",
    "])\n",
    "\n",
    "# # fit and predict\n",
    "# pipe.fit(X_train, y_train)\n",
    "\n",
    "# y_pred = pipe.predict(X_test)\n",
    "\n",
    "# print report\n",
    "print(classification_report(y_test,y_pred))\n",
    "print (confusion_matrix (y_test, y_pred))\n",
    "\n",
    "\n",
    "# set up a BaggingClassifier \n",
    "from sklearn.ensemble import BaggingClassifier\n",
    "\n",
    "pipe.set_params(model=BaggingClassifier(base_estimator=base))\n",
    "# fit and predict\n",
    "pipe.fit(X_train,y_train)\n",
    "y_pred = pipe.predict(X_test)\n",
    "# print report\n",
    "print(classification_report(y_test,y_pred))\n"
   ]
  },
  {
   "cell_type": "markdown",
   "metadata": {},
   "source": [
    "### GridSearch in Pipeline"
   ]
  },
  {
   "cell_type": "code",
   "execution_count": 33,
   "metadata": {},
   "outputs": [
    {
     "ename": "AttributeError",
     "evalue": "'GridSearchCV' object has no attribute 'best_params_'",
     "output_type": "error",
     "traceback": [
      "\u001b[1;31m---------------------------------------------------------------------------\u001b[0m",
      "\u001b[1;31mAttributeError\u001b[0m                            Traceback (most recent call last)",
      "\u001b[1;32m<ipython-input-33-e195cd7476f3>\u001b[0m in \u001b[0;36m<module>\u001b[1;34m\u001b[0m\n\u001b[0;32m     28\u001b[0m \u001b[1;33m\u001b[0m\u001b[0m\n\u001b[0;32m     29\u001b[0m \u001b[1;31m# Display the best parameters\u001b[0m\u001b[1;33m\u001b[0m\u001b[1;33m\u001b[0m\u001b[1;33m\u001b[0m\u001b[0m\n\u001b[1;32m---> 30\u001b[1;33m \u001b[0mprint\u001b[0m\u001b[1;33m(\u001b[0m\u001b[1;34m\"Best Parameters:\"\u001b[0m\u001b[1;33m,\u001b[0m \u001b[0mgridsearch\u001b[0m\u001b[1;33m.\u001b[0m\u001b[0mbest_params_\u001b[0m\u001b[1;33m)\u001b[0m\u001b[1;33m\u001b[0m\u001b[1;33m\u001b[0m\u001b[0m\n\u001b[0m\u001b[0;32m     31\u001b[0m \u001b[0mprint\u001b[0m\u001b[1;33m(\u001b[0m\u001b[0mclassification_report\u001b[0m\u001b[1;33m(\u001b[0m\u001b[0my_test\u001b[0m\u001b[1;33m,\u001b[0m\u001b[0my_pred\u001b[0m\u001b[1;33m)\u001b[0m\u001b[1;33m)\u001b[0m\u001b[1;33m\u001b[0m\u001b[1;33m\u001b[0m\u001b[0m\n",
      "\u001b[1;31mAttributeError\u001b[0m: 'GridSearchCV' object has no attribute 'best_params_'"
     ]
    }
   ],
   "source": [
    "# create a pipeline\n",
    "pipe = Pipeline([(\"mms\", MinMaxScaler()),\n",
    "                 (\"tree\", DecisionTreeClassifier(random_state=123))])\n",
    "\n",
    "# create the grid parameter\n",
    "grid = [{\"n_estimators\":[100,200,300,400],\n",
    "         \"max_depth\": [None, 2,6,10],\n",
    "         \"min_samples_splits\":[5,10],\n",
    "         \"min_samples_leaf\": [1,2,4]}]\n",
    "\n",
    "from sklearn.model_selection import GridSearchCV\n",
    "\n",
    "# create the grid, with \"Pipe\" as the estimator \n",
    "gridsearch = GridSearchCV(estimator=pipe,\n",
    "                          param_grid=grid,\n",
    "                          scoring=\"accuracy\",\n",
    "                          cv=5)\n",
    "\n",
    "# fit using grid search\n",
    "gridsearch.fit(X_train, y_train)\n",
    "\n",
    "# Predict and evaluate\n",
    "y_pred = gridsearch.predict(X_test) \n",
    "\n",
    "#calculate the test score\n",
    "test_score = gridsearch.score(y_pred, y_test)\n",
    "print(\"Test Score:\", test_score)\n",
    "\n",
    "# Display the best parameters\n",
    "print(\"Best Parameters:\", gridsearch.best_params_)\n",
    "print(classification_report(y_test,y_pred))\n"
   ]
  },
  {
   "cell_type": "markdown",
   "metadata": {},
   "source": [
    "### Random Forest model\n"
   ]
  },
  {
   "cell_type": "code",
   "execution_count": null,
   "metadata": {},
   "outputs": [],
   "source": []
  },
  {
   "cell_type": "code",
   "execution_count": null,
   "metadata": {},
   "outputs": [],
   "source": []
  }
 ],
 "metadata": {
  "kernelspec": {
   "display_name": "learn-env",
   "language": "python",
   "name": "python3"
  },
  "language_info": {
   "codemirror_mode": {
    "name": "ipython",
    "version": 3
   },
   "file_extension": ".py",
   "mimetype": "text/x-python",
   "name": "python",
   "nbconvert_exporter": "python",
   "pygments_lexer": "ipython3",
   "version": "3.8.5"
  }
 },
 "nbformat": 4,
 "nbformat_minor": 2
}
